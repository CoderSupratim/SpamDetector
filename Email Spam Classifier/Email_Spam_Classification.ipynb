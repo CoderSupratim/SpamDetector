{
 "cells": [
  {
   "cell_type": "code",
   "execution_count": 2,
   "id": "337d0873",
   "metadata": {},
   "outputs": [],
   "source": [
    "#importing all the libraries\n",
    "#import numpy as np\n",
    "import pandas as pd\n",
    "import matplotlib.pyplot as plt\n",
    "import nltk\n",
    "from nltk.corpus import stopwords\n",
    "import string"
   ]
  },
  {
   "cell_type": "code",
   "execution_count": 3,
   "id": "2163eb13",
   "metadata": {},
   "outputs": [
    {
     "data": {
      "text/html": [
       "<div>\n",
       "<style scoped>\n",
       "    .dataframe tbody tr th:only-of-type {\n",
       "        vertical-align: middle;\n",
       "    }\n",
       "\n",
       "    .dataframe tbody tr th {\n",
       "        vertical-align: top;\n",
       "    }\n",
       "\n",
       "    .dataframe thead th {\n",
       "        text-align: right;\n",
       "    }\n",
       "</style>\n",
       "<table border=\"1\" class=\"dataframe\">\n",
       "  <thead>\n",
       "    <tr style=\"text-align: right;\">\n",
       "      <th></th>\n",
       "      <th>Unnamed: 0</th>\n",
       "      <th>Unnamed: 0.1</th>\n",
       "      <th>Body</th>\n",
       "      <th>Label</th>\n",
       "    </tr>\n",
       "  </thead>\n",
       "  <tbody>\n",
       "    <tr>\n",
       "      <th>0</th>\n",
       "      <td>2469</td>\n",
       "      <td>2469</td>\n",
       "      <td>Subject: stock promo mover : cwtd\\n * * * urge...</td>\n",
       "      <td>1</td>\n",
       "    </tr>\n",
       "    <tr>\n",
       "      <th>1</th>\n",
       "      <td>5063</td>\n",
       "      <td>5063</td>\n",
       "      <td>Subject: are you listed in major search engine...</td>\n",
       "      <td>1</td>\n",
       "    </tr>\n",
       "    <tr>\n",
       "      <th>2</th>\n",
       "      <td>12564</td>\n",
       "      <td>12564</td>\n",
       "      <td>Subject: important information thu , 30 jun 20...</td>\n",
       "      <td>1</td>\n",
       "    </tr>\n",
       "    <tr>\n",
       "      <th>3</th>\n",
       "      <td>2796</td>\n",
       "      <td>2796</td>\n",
       "      <td>Subject: = ? utf - 8 ? q ? bask your life with...</td>\n",
       "      <td>1</td>\n",
       "    </tr>\n",
       "    <tr>\n",
       "      <th>4</th>\n",
       "      <td>1468</td>\n",
       "      <td>1468</td>\n",
       "      <td>Subject: \" bidstogo \" is places to go , things...</td>\n",
       "      <td>1</td>\n",
       "    </tr>\n",
       "  </tbody>\n",
       "</table>\n",
       "</div>"
      ],
      "text/plain": [
       "   Unnamed: 0  Unnamed: 0.1  \\\n",
       "0        2469          2469   \n",
       "1        5063          5063   \n",
       "2       12564         12564   \n",
       "3        2796          2796   \n",
       "4        1468          1468   \n",
       "\n",
       "                                                Body  Label  \n",
       "0  Subject: stock promo mover : cwtd\\n * * * urge...      1  \n",
       "1  Subject: are you listed in major search engine...      1  \n",
       "2  Subject: important information thu , 30 jun 20...      1  \n",
       "3  Subject: = ? utf - 8 ? q ? bask your life with...      1  \n",
       "4  Subject: \" bidstogo \" is places to go , things...      1  "
      ]
     },
     "execution_count": 3,
     "metadata": {},
     "output_type": "execute_result"
    }
   ],
   "source": [
    "#reading csv file(dataset)\n",
    "df = pd.read_csv(\"SpamSet.csv\")\n",
    "df.head()"
   ]
  },
  {
   "cell_type": "code",
   "execution_count": 4,
   "id": "b99f7441",
   "metadata": {},
   "outputs": [],
   "source": [
    "#selecting columns that we need\n",
    "df = df[[\"Body\",\"Label\"]]"
   ]
  },
  {
   "cell_type": "code",
   "execution_count": 5,
   "id": "2d728910",
   "metadata": {},
   "outputs": [
    {
     "data": {
      "text/html": [
       "<div>\n",
       "<style scoped>\n",
       "    .dataframe tbody tr th:only-of-type {\n",
       "        vertical-align: middle;\n",
       "    }\n",
       "\n",
       "    .dataframe tbody tr th {\n",
       "        vertical-align: top;\n",
       "    }\n",
       "\n",
       "    .dataframe thead th {\n",
       "        text-align: right;\n",
       "    }\n",
       "</style>\n",
       "<table border=\"1\" class=\"dataframe\">\n",
       "  <thead>\n",
       "    <tr style=\"text-align: right;\">\n",
       "      <th></th>\n",
       "      <th>Body</th>\n",
       "      <th>Label</th>\n",
       "    </tr>\n",
       "  </thead>\n",
       "  <tbody>\n",
       "    <tr>\n",
       "      <th>0</th>\n",
       "      <td>Subject: stock promo mover : cwtd\\n * * * urge...</td>\n",
       "      <td>1</td>\n",
       "    </tr>\n",
       "    <tr>\n",
       "      <th>1</th>\n",
       "      <td>Subject: are you listed in major search engine...</td>\n",
       "      <td>1</td>\n",
       "    </tr>\n",
       "    <tr>\n",
       "      <th>2</th>\n",
       "      <td>Subject: important information thu , 30 jun 20...</td>\n",
       "      <td>1</td>\n",
       "    </tr>\n",
       "    <tr>\n",
       "      <th>3</th>\n",
       "      <td>Subject: = ? utf - 8 ? q ? bask your life with...</td>\n",
       "      <td>1</td>\n",
       "    </tr>\n",
       "    <tr>\n",
       "      <th>4</th>\n",
       "      <td>Subject: \" bidstogo \" is places to go , things...</td>\n",
       "      <td>1</td>\n",
       "    </tr>\n",
       "    <tr>\n",
       "      <th>...</th>\n",
       "      <td>...</td>\n",
       "      <td>...</td>\n",
       "    </tr>\n",
       "    <tr>\n",
       "      <th>4995</th>\n",
       "      <td>Subject: rock her world\\n</td>\n",
       "      <td>1</td>\n",
       "    </tr>\n",
       "    <tr>\n",
       "      <th>4996</th>\n",
       "      <td>Subject: save your smoking\\n unsubscribe\\n tas...</td>\n",
       "      <td>1</td>\n",
       "    </tr>\n",
       "    <tr>\n",
       "      <th>4997</th>\n",
       "      <td>Subject: you can find unimaginable savings on ...</td>\n",
       "      <td>1</td>\n",
       "    </tr>\n",
       "    <tr>\n",
       "      <th>4998</th>\n",
       "      <td>Subject: floor heating under tile - easiest sy...</td>\n",
       "      <td>1</td>\n",
       "    </tr>\n",
       "    <tr>\n",
       "      <th>4999</th>\n",
       "      <td>Subject: update your online banking records\\n ...</td>\n",
       "      <td>1</td>\n",
       "    </tr>\n",
       "  </tbody>\n",
       "</table>\n",
       "<p>5000 rows × 2 columns</p>\n",
       "</div>"
      ],
      "text/plain": [
       "                                                   Body  Label\n",
       "0     Subject: stock promo mover : cwtd\\n * * * urge...      1\n",
       "1     Subject: are you listed in major search engine...      1\n",
       "2     Subject: important information thu , 30 jun 20...      1\n",
       "3     Subject: = ? utf - 8 ? q ? bask your life with...      1\n",
       "4     Subject: \" bidstogo \" is places to go , things...      1\n",
       "...                                                 ...    ...\n",
       "4995                          Subject: rock her world\\n      1\n",
       "4996  Subject: save your smoking\\n unsubscribe\\n tas...      1\n",
       "4997  Subject: you can find unimaginable savings on ...      1\n",
       "4998  Subject: floor heating under tile - easiest sy...      1\n",
       "4999  Subject: update your online banking records\\n ...      1\n",
       "\n",
       "[5000 rows x 2 columns]"
      ]
     },
     "execution_count": 5,
     "metadata": {},
     "output_type": "execute_result"
    }
   ],
   "source": [
    "df[df['Label']==1][['Body','Label']]"
   ]
  },
  {
   "cell_type": "code",
   "execution_count": 6,
   "id": "68500093",
   "metadata": {},
   "outputs": [
    {
     "data": {
      "text/plain": [
       "(10000, 2)"
      ]
     },
     "execution_count": 6,
     "metadata": {},
     "output_type": "execute_result"
    }
   ],
   "source": [
    "df.shape"
   ]
  },
  {
   "cell_type": "code",
   "execution_count": 7,
   "id": "d6496b63",
   "metadata": {},
   "outputs": [
    {
     "data": {
      "text/plain": [
       "Body     0\n",
       "Label    0\n",
       "dtype: int64"
      ]
     },
     "execution_count": 7,
     "metadata": {},
     "output_type": "execute_result"
    }
   ],
   "source": [
    "#checking for null values\n",
    "df.isnull().sum()"
   ]
  },
  {
   "cell_type": "code",
   "execution_count": 8,
   "id": "84411688",
   "metadata": {},
   "outputs": [
    {
     "data": {
      "text/plain": [
       "313"
      ]
     },
     "execution_count": 8,
     "metadata": {},
     "output_type": "execute_result"
    }
   ],
   "source": [
    "#checking for duplicates\n",
    "df.duplicated().sum()"
   ]
  },
  {
   "cell_type": "code",
   "execution_count": 9,
   "id": "d3dd0ca4",
   "metadata": {},
   "outputs": [],
   "source": [
    "#dropping the duplicates\n",
    "df.drop_duplicates(inplace = True)"
   ]
  },
  {
   "cell_type": "code",
   "execution_count": 10,
   "id": "c6c9a649",
   "metadata": {},
   "outputs": [
    {
     "data": {
      "text/plain": [
       "(9687, 2)"
      ]
     },
     "execution_count": 10,
     "metadata": {},
     "output_type": "execute_result"
    }
   ],
   "source": [
    "df.shape"
   ]
  },
  {
   "cell_type": "code",
   "execution_count": 11,
   "id": "d14f3766",
   "metadata": {},
   "outputs": [
    {
     "data": {
      "text/plain": [
       "0    4927\n",
       "1    4760\n",
       "Name: Label, dtype: int64"
      ]
     },
     "execution_count": 11,
     "metadata": {},
     "output_type": "execute_result"
    }
   ],
   "source": [
    "df['Label'].value_counts()"
   ]
  },
  {
   "cell_type": "code",
   "execution_count": 12,
   "id": "5549d823",
   "metadata": {},
   "outputs": [
    {
     "data": {
      "image/png": "[encoded data removed]",
      "text/plain": [
       "<Figure size 432x288 with 1 Axes>"
      ]
     },
     "metadata": {},
     "output_type": "display_data"
    }
   ],
   "source": [
    "plt.pie(df['Label'].value_counts(), labels= ['ham','spam'], autopct =\"%0.2f\")\n",
    "plt.show()"
   ]
  },
  {
   "cell_type": "markdown",
   "id": "f3b7949a",
   "metadata": {},
   "source": [
    "### Data processing\n",
    "    #lower case\n",
    "    #Tokenization\n",
    "    #Removing special chars\n",
    "    #Removing punctuation and stopwords\n",
    "    #stemming"
   ]
  },
  {
   "cell_type": "code",
   "execution_count": 13,
   "id": "a9dc9329",
   "metadata": {},
   "outputs": [],
   "source": [
    "#importing porter stemmer for  stemming and making its object\n",
    "from nltk.stem.porter import PorterStemmer\n",
    "ps = PorterStemmer()"
   ]
  },
  {
   "cell_type": "code",
   "execution_count": 14,
   "id": "c1729829",
   "metadata": {},
   "outputs": [
    {
     "data": {
      "text/html": [
       "<div>\n",
       "<style scoped>\n",
       "    .dataframe tbody tr th:only-of-type {\n",
       "        vertical-align: middle;\n",
       "    }\n",
       "\n",
       "    .dataframe tbody tr th {\n",
       "        vertical-align: top;\n",
       "    }\n",
       "\n",
       "    .dataframe thead th {\n",
       "        text-align: right;\n",
       "    }\n",
       "</style>\n",
       "<table border=\"1\" class=\"dataframe\">\n",
       "  <thead>\n",
       "    <tr style=\"text-align: right;\">\n",
       "      <th></th>\n",
       "      <th>Body</th>\n",
       "      <th>Label</th>\n",
       "    </tr>\n",
       "  </thead>\n",
       "  <tbody>\n",
       "    <tr>\n",
       "      <th>0</th>\n",
       "      <td>Subject: stock promo mover : cwtd\\n * * * urge...</td>\n",
       "      <td>1</td>\n",
       "    </tr>\n",
       "    <tr>\n",
       "      <th>1</th>\n",
       "      <td>Subject: are you listed in major search engine...</td>\n",
       "      <td>1</td>\n",
       "    </tr>\n",
       "    <tr>\n",
       "      <th>2</th>\n",
       "      <td>Subject: important information thu , 30 jun 20...</td>\n",
       "      <td>1</td>\n",
       "    </tr>\n",
       "    <tr>\n",
       "      <th>3</th>\n",
       "      <td>Subject: = ? utf - 8 ? q ? bask your life with...</td>\n",
       "      <td>1</td>\n",
       "    </tr>\n",
       "    <tr>\n",
       "      <th>4</th>\n",
       "      <td>Subject: \" bidstogo \" is places to go , things...</td>\n",
       "      <td>1</td>\n",
       "    </tr>\n",
       "  </tbody>\n",
       "</table>\n",
       "</div>"
      ],
      "text/plain": [
       "                                                Body  Label\n",
       "0  Subject: stock promo mover : cwtd\\n * * * urge...      1\n",
       "1  Subject: are you listed in major search engine...      1\n",
       "2  Subject: important information thu , 30 jun 20...      1\n",
       "3  Subject: = ? utf - 8 ? q ? bask your life with...      1\n",
       "4  Subject: \" bidstogo \" is places to go , things...      1"
      ]
     },
     "execution_count": 14,
     "metadata": {},
     "output_type": "execute_result"
    }
   ],
   "source": [
    "df.head()"
   ]
  },
  {
   "cell_type": "code",
   "execution_count": 15,
   "id": "072aea4d",
   "metadata": {},
   "outputs": [],
   "source": [
    "#cleaning and tokenization\n",
    "\n",
    "def process_clean_body(text):\n",
    "    \n",
    "    #lowercase\n",
    "    text = text.lower()\n",
    "    \n",
    "    #punctuation removal\n",
    "    no_punc = [char for char in text if char not in string.punctuation]\n",
    "    no_punc = ''.join(no_punc).split()\n",
    "    \n",
    "    #removing stopwords and tokenization of it\n",
    "    filtered_words = [ps.stem(word) for word in no_punc if word not in stopwords.words('english')]\n",
    "    \n",
    "    return filtered_words"
   ]
  },
  {
   "cell_type": "code",
   "execution_count": null,
   "id": "d856d52c",
   "metadata": {},
   "outputs": [],
   "source": [
    "df['Transformed_Body'] = df['Body'].map(process_clean_body)"
   ]
  },
  {
   "cell_type": "code",
   "execution_count": null,
   "id": "c3ed0ea6",
   "metadata": {},
   "outputs": [],
   "source": [
    "df.head()"
   ]
  },
  {
   "cell_type": "code",
   "execution_count": null,
   "id": "b18740b1",
   "metadata": {},
   "outputs": [],
   "source": [
    "df.isnull().sum()"
   ]
  },
  {
   "cell_type": "code",
   "execution_count": null,
   "id": "1cff9629",
   "metadata": {},
   "outputs": [],
   "source": [
    "df.shape"
   ]
  },
  {
   "cell_type": "code",
   "execution_count": null,
   "id": "252a4de8",
   "metadata": {},
   "outputs": [],
   "source": [
    "#To install wordcloud i needed executable path\n",
    "import sys\n",
    "print(sys.executable)"
   ]
  },
  {
   "cell_type": "code",
   "execution_count": null,
   "id": "0aea1730",
   "metadata": {
    "scrolled": true
   },
   "outputs": [],
   "source": [
    "from wordcloud import WordCloud\n",
    "wc = WordCloud(width = 1200, height = 1000, min_font_size = 10, background_color = \"white\")"
   ]
  },
  {
   "cell_type": "code",
   "execution_count": null,
   "id": "8d7c49c5",
   "metadata": {},
   "outputs": [],
   "source": [
    "spam_wc = wc.generate(df[df['Label'] == 1]['Body'].str.cat(sep = \" \"))"
   ]
  },
  {
   "cell_type": "code",
   "execution_count": null,
   "id": "4679aa2f",
   "metadata": {},
   "outputs": [],
   "source": [
    "plt.figure(figsize=(10,5))\n",
    "plt.imshow(spam_wc)\n",
    "plt.show()"
   ]
  },
  {
   "cell_type": "code",
   "execution_count": null,
   "id": "82fa83e0",
   "metadata": {},
   "outputs": [],
   "source": [
    "ham_wc = wc.generate(df[df['Label'] == 0]['Body'].str.cat(sep = \" \"))"
   ]
  },
  {
   "cell_type": "code",
   "execution_count": null,
   "id": "898fe897",
   "metadata": {},
   "outputs": [],
   "source": [
    "plt.figure(figsize=(10,5))\n",
    "plt.imshow(ham_wc)\n",
    "plt.show()"
   ]
  },
  {
   "cell_type": "code",
   "execution_count": null,
   "id": "43c7c304",
   "metadata": {},
   "outputs": [],
   "source": [
    "df['Transformed_Body']"
   ]
  },
  {
   "cell_type": "code",
   "execution_count": null,
   "id": "0bca6856",
   "metadata": {},
   "outputs": [],
   "source": [
    "spam_corpus = []\n",
    "for msg in df[df['Label'] == 1]['Transformed_Body']:\n",
    "    for word in msg:\n",
    "        spam_corpus.append(word)"
   ]
  },
  {
   "cell_type": "code",
   "execution_count": null,
   "id": "0173a4e9",
   "metadata": {},
   "outputs": [],
   "source": [
    "len(spam_corpus)"
   ]
  },
  {
   "cell_type": "code",
   "execution_count": null,
   "id": "cf5959a6",
   "metadata": {},
   "outputs": [],
   "source": [
    "# Plotting the words with frequency which are repeatedly used in case of spam for visualization\n",
    "import seaborn as sns\n",
    "from collections import Counter\n",
    "x=pd.DataFrame(Counter(spam_corpus).most_common(30))[0]\n",
    "y=pd.DataFrame(Counter(spam_corpus).most_common(30))[1]\n",
    "sns.barplot(x,y)\n",
    "plt.xticks(rotation ='vertical')\n",
    "plt.xlabel('Repeated Words')\n",
    "plt.ylabel('Times of repetition')\n",
    "plt.show()"
   ]
  },
  {
   "cell_type": "code",
   "execution_count": null,
   "id": "cebf2ae9",
   "metadata": {},
   "outputs": [],
   "source": [
    "ham_corpus = []\n",
    "for msg in df[df['Label'] == 0]['Transformed_Body']:\n",
    "    for word in msg:\n",
    "        ham_corpus.append(word)"
   ]
  },
  {
   "cell_type": "code",
   "execution_count": null,
   "id": "b319008b",
   "metadata": {},
   "outputs": [],
   "source": [
    "len(ham_corpus)"
   ]
  },
  {
   "cell_type": "code",
   "execution_count": null,
   "id": "f73f57bc",
   "metadata": {},
   "outputs": [],
   "source": [
    "# Plotting the words with frequency which are repeatedly used in case of ham for visualization\n",
    "sns.barplot(pd.DataFrame(Counter(ham_corpus).most_common(30))[0],pd.DataFrame(Counter(ham_corpus).most_common(30))[1])\n",
    "plt.xticks(rotation ='vertical')\n",
    "plt.xlabel('Repeated Words')\n",
    "plt.ylabel('Times of repetition')\n",
    "plt.show()"
   ]
  },
  {
   "cell_type": "code",
   "execution_count": null,
   "id": "ea844601",
   "metadata": {},
   "outputs": [],
   "source": [
    "#Adding columns we need for future use\n",
    "df['num_words'] = df['Body'].str.split().str.len()"
   ]
  },
  {
   "cell_type": "code",
   "execution_count": null,
   "id": "0b042134",
   "metadata": {},
   "outputs": [],
   "source": [
    "df['num_chars'] = df['Body'].str.len()"
   ]
  },
  {
   "cell_type": "markdown",
   "id": "58f7293e",
   "metadata": {},
   "source": [
    "#### Alternative way to sent_tokenize to word,sent, char counts\n",
    "import nltk\n",
    "\n",
    "#folder = nltk.data.find(dirpath)\n",
    "\n",
    "#corpusReader = nltk.corpus.PlaintextCorpusReader(folder, '.*\\.txt')\n",
    "\n",
    "#print \"The number of sentences =\", len(corpusReader.sents())\n",
    "\n",
    "#print \"The number of patagraphs =\", len(corpusReader.paras())\n",
    "\n",
    "#print \"The number of words =\", len([word for sentence in corpusReader.sents() for word in sentence])\n",
    "\n",
    "#print \"The number of characters =\", len([char for sentence in corpusReader.sents() for word in sentence for char in word])"
   ]
  },
  {
   "cell_type": "code",
   "execution_count": null,
   "id": "47e277cd",
   "metadata": {},
   "outputs": [],
   "source": [
    "#finding the nltk data path\n",
    "nltk.data.path"
   ]
  },
  {
   "cell_type": "code",
   "execution_count": null,
   "id": "3316faa9",
   "metadata": {},
   "outputs": [],
   "source": [
    "# Download punkt tokenizer\n",
    "# import nltk\n",
    "# nltk.download('punkt')"
   ]
  },
  {
   "cell_type": "code",
   "execution_count": null,
   "id": "743d4073",
   "metadata": {},
   "outputs": [],
   "source": [
    "df['num_sentences'] = df['Body'].apply(nltk.sent_tokenize).apply(len)"
   ]
  },
  {
   "cell_type": "markdown",
   "id": "3c2356bf",
   "metadata": {},
   "source": [
    "#### Text Vectorization Using BagOfWords"
   ]
  },
  {
   "cell_type": "code",
   "execution_count": null,
   "id": "30dc40b8",
   "metadata": {},
   "outputs": [],
   "source": [
    "df.head(5)"
   ]
  },
  {
   "cell_type": "code",
   "execution_count": null,
   "id": "ebc2a394",
   "metadata": {},
   "outputs": [],
   "source": [
    "#Transforming the data of Transformed_Message such that it can be fed into the model (matrix of tokens)\n",
    "#(concept of bagOfWords)\n",
    "from sklearn.feature_extraction.text import CountVectorizer\n",
    "messages_bow = CountVectorizer(analyzer = process_clean_body).fit_transform(df['Body'])"
   ]
  },
  {
   "cell_type": "code",
   "execution_count": null,
   "id": "7b7babac",
   "metadata": {},
   "outputs": [],
   "source": [
    "#spliting the data into 80% train and 20% test data\n",
    "from sklearn.model_selection import train_test_split\n",
    "X_train, X_test, Y_train, Y_test = train_test_split(messages_bow, df['Label'] == 1, test_size =.20, random_state = 0)"
   ]
  },
  {
   "cell_type": "code",
   "execution_count": null,
   "id": "4e9fc1ad",
   "metadata": {},
   "outputs": [],
   "source": [
    "messages_bow.shape"
   ]
  },
  {
   "cell_type": "code",
   "execution_count": null,
   "id": "0aeabd78",
   "metadata": {},
   "outputs": [],
   "source": [
    "#Create and train the Naive Bayes Classifier\n",
    "from sklearn.naive_bayes import MultinomialNB\n",
    "classifier = MultinomialNB().fit(X_train, Y_train)"
   ]
  },
  {
   "cell_type": "code",
   "execution_count": null,
   "id": "1ee2a19a",
   "metadata": {},
   "outputs": [],
   "source": [
    "#print the predicitons\n",
    "print(classifier.predict(X_train))\n",
    "\n",
    "#print the actual values\n",
    "print(Y_train.values)\n"
   ]
  },
  {
   "cell_type": "code",
   "execution_count": null,
   "id": "3a42fcd0",
   "metadata": {},
   "outputs": [],
   "source": [
    "#Evaluating the model on the training dataset\n",
    "from sklearn.metrics import classification_report, confusion_matrix, accuracy_score\n",
    "pred = classifier.predict(X_train)\n",
    "print(classification_report(Y_train, pred))\n",
    "print()\n",
    "print('Confusion matrix: \\n', confusion_matrix(Y_train, pred))\n",
    "print()\n",
    "print('Accuracy: ', accuracy_score(Y_train, pred))"
   ]
  },
  {
   "cell_type": "code",
   "execution_count": null,
   "id": "51f00825",
   "metadata": {},
   "outputs": [],
   "source": [
    "#print the predictions\n",
    "print(classifier.predict(X_test))\n",
    "\n",
    "#print the actual values\n",
    "print(Y_test.values)"
   ]
  },
  {
   "cell_type": "code",
   "execution_count": null,
   "id": "fcd6052b",
   "metadata": {},
   "outputs": [],
   "source": [
    "#Evaluating the model on the test dataset\n",
    "from sklearn.metrics import classification_report, confusion_matrix, accuracy_score\n",
    "pred = classifier.predict(X_test)\n",
    "print(classification_report(Y_test, pred))\n",
    "print()\n",
    "print('Confusion matrix: \\n', confusion_matrix(Y_test, pred))\n",
    "print()\n",
    "print('Accuracy: ', accuracy_score(Y_test, pred))"
   ]
  },
  {
   "cell_type": "code",
   "execution_count": null,
   "id": "1ca2b04b",
   "metadata": {},
   "outputs": [],
   "source": []
  }
 ],
 "metadata": {
  "kernelspec": {
   "display_name": "Python 3",
   "language": "python",
   "name": "python3"
  },
  "language_info": {
   "codemirror_mode": {
    "name": "ipython",
    "version": 3
   },
   "file_extension": ".py",
   "mimetype": "text/x-python",
   "name": "python",
   "nbconvert_exporter": "python",
   "pygments_lexer": "ipython3",
   "version": "3.8.8"
  }
 },
 "nbformat": 4,
 "nbformat_minor": 5
}
